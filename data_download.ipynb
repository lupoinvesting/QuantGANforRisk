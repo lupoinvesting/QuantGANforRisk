{
 "cells": [
  {
   "cell_type": "code",
   "execution_count": null,
   "id": "ab1fd121",
   "metadata": {},
   "outputs": [],
   "source": [
    "\n",
    "import yfinance as yf\n",
    "import pandas as pd\n",
    "from utils.data_parser import parse_yahoo_data"
   ]
  },
  {
   "cell_type": "code",
   "execution_count": null,
   "id": "7dcd11c9",
   "metadata": {},
   "outputs": [
    {
     "name": "stdout",
     "output_type": "stream",
     "text": [
      "YF.download() has changed argument auto_adjust default to True\n"
     ]
    },
    {
     "name": "stderr",
     "output_type": "stream",
     "text": [
      "[*********************100%***********************]  1 of 1 completed\n"
     ]
    }
   ],
   "source": [
    "# parameters\n",
    "symbol = \"SPY\"\n",
    "start_date = \"2001-01-01\"\n",
    "end_date = \"2025-05-20\"\n",
    "\n",
    "# Download historical data for SPY (S&P 500 ETF)\n",
    "data = yf.download(symbol, start=start_date, end=end_date)\n",
    "data =  parse_yahoo_data(data)\n",
    "\n",
    "\n",
    "data.to_csv(\"data/SPY.csv\", index=True)"
   ]
  }
 ],
 "metadata": {
  "kernelspec": {
   "display_name": ".venv",
   "language": "python",
   "name": "python3"
  },
  "language_info": {
   "codemirror_mode": {
    "name": "ipython",
    "version": 3
   },
   "file_extension": ".py",
   "mimetype": "text/x-python",
   "name": "python",
   "nbconvert_exporter": "python",
   "pygments_lexer": "ipython3",
   "version": "3.12.5"
  }
 },
 "nbformat": 4,
 "nbformat_minor": 5
}
